{
  "nbformat": 4,
  "nbformat_minor": 0,
  "metadata": {
    "colab": {
      "name": "freeze of vgg16.ipynb",
      "provenance": [],
      "authorship_tag": "ABX9TyNS0nDVm/VJYaUX+5+XqH+H",
      "include_colab_link": true
    },
    "kernelspec": {
      "name": "python3",
      "display_name": "Python 3"
    },
    "language_info": {
      "name": "python"
    }
  },
  "cells": [
    {
      "cell_type": "markdown",
      "metadata": {
        "id": "view-in-github",
        "colab_type": "text"
      },
      "source": [
        "<a href=\"https://colab.research.google.com/github/taresadere/taresadere/blob/main/freeze_of_vgg16.ipynb\" target=\"_parent\"><img src=\"https://colab.research.google.com/assets/colab-badge.svg\" alt=\"Open In Colab\"/></a>"
      ]
    },
    {
      "cell_type": "code",
      "execution_count": null,
      "metadata": {
        "id": "dcCnufvyZ5li",
        "colab": {
          "base_uri": "https://localhost:8080/"
        },
        "outputId": "379c6131-0bed-43c6-d20f-75b815e61346"
      },
      "outputs": [
        {
          "output_type": "stream",
          "name": "stdout",
          "text": [
            "Mounted at /content/drive\n"
          ]
        }
      ],
      "source": [
        "import os\n",
        "import datetime\n",
        "import numpy as np\n",
        "import matplotlib.pyplot as plt\n",
        "import cv2\n",
        "from google.colab import drive\n",
        "\n",
        "# Accessing My Google Drive\n",
        "drive.mount('/content/drive')"
      ]
    },
    {
      "cell_type": "code",
      "source": [
        "!pip install plot_model"
      ],
      "metadata": {
        "colab": {
          "base_uri": "https://localhost:8080/"
        },
        "id": "rPLVFy0wTpmd",
        "outputId": "093c78d4-8e06-408c-9ca0-bed98511e627"
      },
      "execution_count": null,
      "outputs": [
        {
          "output_type": "stream",
          "name": "stdout",
          "text": [
            "Collecting plot_model\n",
            "  Downloading plot_model-0.20-py3-none-any.whl (6.9 kB)\n",
            "Installing collected packages: plot-model\n",
            "Successfully installed plot-model-0.20\n"
          ]
        }
      ]
    },
    {
      "cell_type": "code",
      "source": [
        "import numpy as np # linear algebra\n",
        "import pandas as pd # data processing, CSV file I/O (e.g. pd.read_csv)\n",
        "from keras.preprocessing.image import ImageDataGenerator, load_img\n",
        "# from tensorflow.keras.applications.inception_v3 import InceptionV3\n",
        "from keras.applications.vgg16 import VGG16\n",
        "from keras.models import Model\n",
        "# from tensorflow.keras.applications.inception_v3 import preprocess_input\n",
        "from keras import backend\n",
        "from keras.layers import Dense,Conv2D,Flatten,MaxPool2D,Dropout\n",
        "from keras.models import Sequential\n",
        "import matplotlib.pyplot as plt\n",
        "from glob import glob\n",
        "import os"
      ],
      "metadata": {
        "id": "Lhn9AHeHgkjJ"
      },
      "execution_count": null,
      "outputs": []
    },
    {
      "cell_type": "code",
      "source": [
        ""
      ],
      "metadata": {
        "id": "Nju1eKLrTlh3"
      },
      "execution_count": null,
      "outputs": []
    },
    {
      "cell_type": "code",
      "source": [
        "from tensorflow.compat.v1 import ConfigProto\n",
        "from tensorflow.compat.v1 import InteractiveSession\n",
        "\n",
        "config = ConfigProto()\n",
        "config.gpu_options.per_process_gpu_memory_fraction = 0.5\n",
        "config.gpu_options.allow_growth = True\n",
        "session = InteractiveSession(config=config)"
      ],
      "metadata": {
        "id": "Nc7n0h1ggw9S"
      },
      "execution_count": null,
      "outputs": []
    },
    {
      "cell_type": "code",
      "source": [
        "train_path = \"drive/My Drive/train\"\n",
        "valid_path =\"drive/My Drive/validation\"\n",
        "test_path = \"drive/My Drive/test\"\n",
        "IMAGE_SIZE=(224, 224)\n",
        "from keras.preprocessing import image\n",
        "classes= [\"normal\", \"follicular\", \"intense\", \"scar\", \"trichiasis\", \"corneal opacity\"]\n",
        "def model_predict(img_path, model):\n",
        "    image = cv2.imread(img_path)\n",
        "    #image = cv2.resize(image, (224, 224))\n",
        "    image = cv2.resize(image,   IMAGE_SIZE)\n",
        "    image = image.astype(\"float\") / 255.0\n",
        "    #image = img_to_array(image)\n",
        "    image = np.expand_dims(image, axis=0)\n",
        "    res = model.predict(image)\n",
        "    label = np.argmax(res)\n",
        "    print(\"Label\", label)\n",
        "    labelName = classes[label]\n",
        "    print(\"Label name:\", labelName)\n",
        "    return labelName\n",
        "\n",
        "EPOCHS = 10\n",
        "RANDOM_SEED = 42\n",
        "\n",
        "if backend.image_data_format() == 'channels_first':\n",
        "    INPUT_SHAPE = (3, IMAGE_SIZE[0], IMAGE_SIZE[1])\n",
        "else:\n",
        "    INPUT_SHAPE = (IMAGE_SIZE[0], IMAGE_SIZE[1], 3)\n",
        "\n",
        "print(f'input_shape: {INPUT_SHAPE}')\n",
        "\n",
        "# useful for getting number of output classes\n",
        "count_of_classes = len(glob(train_path+'/*'))\n",
        "print(count_of_classes)"
      ],
      "metadata": {
        "colab": {
          "base_uri": "https://localhost:8080/"
        },
        "id": "MIwpra10xyik",
        "outputId": "eaebf97a-1c6d-4897-8942-b26a711f4bf5"
      },
      "execution_count": null,
      "outputs": [
        {
          "output_type": "stream",
          "name": "stdout",
          "text": [
            "input_shape: (224, 224, 3)\n",
            "6\n"
          ]
        }
      ]
    },
    {
      "cell_type": "code",
      "source": [
        ""
      ],
      "metadata": {
        "id": "QWW8qUYpLbZY"
      },
      "execution_count": null,
      "outputs": []
    },
    {
      "cell_type": "code",
      "source": [
        "# Prepare train/test using ImageDataGenerator\n",
        "train_datagen = ImageDataGenerator(rescale = 1./255,\n",
        "                                   shear_range = 0.2,\n",
        "                                   zoom_range = 0.2,\n",
        "                                   horizontal_flip = True)\n",
        "\n",
        "test_datagen = ImageDataGenerator(rescale = 1./255)"
      ],
      "metadata": {
        "id": "H96i4NZhyKBa"
      },
      "execution_count": null,
      "outputs": []
    },
    {
      "cell_type": "code",
      "source": [
        "training_set = train_datagen.flow_from_directory(train_path,\n",
        "                                                 target_size = tuple(IMAGE_SIZE),\n",
        "                                                 batch_size = BATCH_SIZE,\n",
        "                                                 class_mode = 'categorical')\n",
        "\n",
        "valid_set = test_datagen.flow_from_directory(valid_path,\n",
        "                                            target_size = tuple(IMAGE_SIZE),\n",
        "                                            batch_size = BATCH_SIZE,\n",
        "                                            class_mode = 'categorical')"
      ],
      "metadata": {
        "colab": {
          "base_uri": "https://localhost:8080/"
        },
        "id": "B_Rihoq8yWz5",
        "outputId": "ddff69d1-68d2-4fd6-9310-1a3f739d47d8"
      },
      "execution_count": null,
      "outputs": [
        {
          "output_type": "stream",
          "name": "stdout",
          "text": [
            "Found 369 images belonging to 6 classes.\n",
            "Found 68 images belonging to 6 classes.\n"
          ]
        }
      ]
    },
    {
      "cell_type": "code",
      "source": [
        "# Target class labels\n",
        "labels_inv = dict((y,x) for x,y in training_set.class_indices.items())\n",
        "labels_inv"
      ],
      "metadata": {
        "colab": {
          "base_uri": "https://localhost:8080/"
        },
        "id": "UZQo9b47yn_s",
        "outputId": "66c9f1df-467f-48d8-9caf-f6f4f0c6f003"
      },
      "execution_count": null,
      "outputs": [
        {
          "output_type": "execute_result",
          "data": {
            "text/plain": [
              "{0: 'corneal',\n",
              " 1: 'follicular',\n",
              " 2: 'intense',\n",
              " 3: 'normal',\n",
              " 4: 'scar',\n",
              " 5: 'trichiasis'}"
            ]
          },
          "metadata": {},
          "execution_count": 8
        }
      ]
    },
    {
      "cell_type": "code",
      "source": [
        "vgg16= VGG16(input_shape=INPUT_SHAPE, weights='imagenet', include_top=False)"
      ],
      "metadata": {
        "colab": {
          "base_uri": "https://localhost:8080/"
        },
        "id": "x7dBvZmvy3sF",
        "outputId": "8b82ee3d-b5c8-48b3-8916-712371f27b1f"
      },
      "execution_count": null,
      "outputs": [
        {
          "output_type": "stream",
          "name": "stdout",
          "text": [
            "Downloading data from https://storage.googleapis.com/tensorflow/keras-applications/vgg16/vgg16_weights_tf_dim_ordering_tf_kernels_notop.h5\n",
            "58892288/58889256 [==============================] - 0s 0us/step\n",
            "58900480/58889256 [==============================] - 0s 0us/step\n"
          ]
        }
      ]
    },
    {
      "cell_type": "code",
      "source": [
        "for layer in vgg16.layers:\n",
        "    layer.trainable = False"
      ],
      "metadata": {
        "id": "O1FGA7IazBsz"
      },
      "execution_count": null,
      "outputs": []
    },
    {
      "cell_type": "code",
      "source": [
        "from tensorflow.keras import Model \n",
        "from tensorflow.keras.layers import Conv2D, Dense, MaxPooling2D, Dropout, Flatten,GlobalAveragePooling2D\n",
        "from tensorflow.keras.models import Sequential\n",
        "x = vgg16.output\n",
        "x = GlobalAveragePooling2D()(x)\n",
        "x = Flatten()(x)\n",
        "x = Dense(units=256, activation='relu')(x)\n",
        "x = Dropout(0.2)(x)\n",
        "x = Dense(units=128, activation='relu')(x)\n",
        "x = Dropout(0.2)(x)\n",
        "output  = Dense(units=6, activation='softmax')(x)\n",
        "model = Model(vgg16.input, output)\n",
        "model = Model(inputs=vgg16.input, output=prediction)\n",
        "\n",
        "loss = tf.keras.losses.CategoricalCrossentropy()\n",
        "optimizer = tf.keras.optimizers.Adam(learning_rate=0.0001)\n",
        "model.compile(optimizer=optimizer, loss=loss, metrics= ['accuracy'])\n"
      ],
      "metadata": {
        "id": "AEVc8DNMzQrS"
      },
      "execution_count": null,
      "outputs": []
    },
    {
      "cell_type": "code",
      "source": [
        "model.summary()"
      ],
      "metadata": {
        "colab": {
          "base_uri": "https://localhost:8080/"
        },
        "id": "yXKEr6LWzTa5",
        "outputId": "e5f8ca54-c5f8-4288-c904-e9a634bcf6bc"
      },
      "execution_count": null,
      "outputs": [
        {
          "output_type": "stream",
          "name": "stdout",
          "text": [
            "Model: \"model_1\"\n",
            "_________________________________________________________________\n",
            " Layer (type)                Output Shape              Param #   \n",
            "=================================================================\n",
            " input_1 (InputLayer)        [(None, 224, 224, 3)]     0         \n",
            "                                                                 \n",
            " block1_conv1 (Conv2D)       (None, 224, 224, 64)      1792      \n",
            "                                                                 \n",
            " block1_conv2 (Conv2D)       (None, 224, 224, 64)      36928     \n",
            "                                                                 \n",
            " block1_pool (MaxPooling2D)  (None, 112, 112, 64)      0         \n",
            "                                                                 \n",
            " block2_conv1 (Conv2D)       (None, 112, 112, 128)     73856     \n",
            "                                                                 \n",
            " block2_conv2 (Conv2D)       (None, 112, 112, 128)     147584    \n",
            "                                                                 \n",
            " block2_pool (MaxPooling2D)  (None, 56, 56, 128)       0         \n",
            "                                                                 \n",
            " block3_conv1 (Conv2D)       (None, 56, 56, 256)       295168    \n",
            "                                                                 \n",
            " block3_conv2 (Conv2D)       (None, 56, 56, 256)       590080    \n",
            "                                                                 \n",
            " block3_conv3 (Conv2D)       (None, 56, 56, 256)       590080    \n",
            "                                                                 \n",
            " block3_pool (MaxPooling2D)  (None, 28, 28, 256)       0         \n",
            "                                                                 \n",
            " block4_conv1 (Conv2D)       (None, 28, 28, 512)       1180160   \n",
            "                                                                 \n",
            " block4_conv2 (Conv2D)       (None, 28, 28, 512)       2359808   \n",
            "                                                                 \n",
            " block4_conv3 (Conv2D)       (None, 28, 28, 512)       2359808   \n",
            "                                                                 \n",
            " block4_pool (MaxPooling2D)  (None, 14, 14, 512)       0         \n",
            "                                                                 \n",
            " block5_conv1 (Conv2D)       (None, 14, 14, 512)       2359808   \n",
            "                                                                 \n",
            " block5_conv2 (Conv2D)       (None, 14, 14, 512)       2359808   \n",
            "                                                                 \n",
            " block5_conv3 (Conv2D)       (None, 14, 14, 512)       2359808   \n",
            "                                                                 \n",
            " block5_pool (MaxPooling2D)  (None, 7, 7, 512)         0         \n",
            "                                                                 \n",
            " flatten_1 (Flatten)         (None, 25088)             0         \n",
            "                                                                 \n",
            " dense_1 (Dense)             (None, 6)                 150534    \n",
            "                                                                 \n",
            "=================================================================\n",
            "Total params: 14,865,222\n",
            "Trainable params: 150,534\n",
            "Non-trainable params: 14,714,688\n",
            "_________________________________________________________________\n"
          ]
        }
      ]
    },
    {
      "cell_type": "code",
      "source": [
        "from tensorflow.keras.callbacks import ReduceLROnPlateau, ModelCheckpoint, EarlyStopping\n",
        "\n",
        "early_stopping = EarlyStopping(monitor='val_loss', mode='min', verbose=1, patience=5)\n",
        "lrr = ReduceLROnPlateau(monitor='val_accuracy', \n",
        "                        patience=3, \n",
        "                        verbose=1, \n",
        "                        factor=0.4, \n",
        "                        min_lr=0.0001)\n",
        "history = model.fit_generator(\n",
        "  training_set,\n",
        "  validation_data=valid_set,\n",
        "  epochs=EPOCHS,\n",
        "  steps_per_epoch=len(training_set),\n",
        "  validation_steps=len(valid_set)\n",
        ")"
      ],
      "metadata": {
        "colab": {
          "base_uri": "https://localhost:8080/"
        },
        "id": "QprPVOwAzjdw",
        "outputId": "0c9e77a9-173a-49c1-9ab0-b51972ba28ed"
      },
      "execution_count": null,
      "outputs": [
        {
          "output_type": "stream",
          "name": "stderr",
          "text": [
            "/usr/local/lib/python3.7/dist-packages/ipykernel_launcher.py:6: UserWarning: `Model.fit_generator` is deprecated and will be removed in a future version. Please use `Model.fit`, which supports generators.\n",
            "  \n"
          ]
        },
        {
          "output_type": "stream",
          "name": "stdout",
          "text": [
            "Epoch 1/10\n",
            "12/12 [==============================] - 257s 20s/step - loss: 1.7999 - accuracy: 0.1789 - val_loss: 1.7168 - val_accuracy: 0.2059\n",
            "Epoch 2/10\n",
            "12/12 [==============================] - 223s 19s/step - loss: 1.6213 - accuracy: 0.3415 - val_loss: 1.7419 - val_accuracy: 0.1176\n",
            "Epoch 3/10\n",
            "12/12 [==============================] - 225s 19s/step - loss: 1.4777 - accuracy: 0.4119 - val_loss: 1.8364 - val_accuracy: 0.1912\n",
            "Epoch 4/10\n",
            "12/12 [==============================] - 225s 19s/step - loss: 1.3523 - accuracy: 0.5393 - val_loss: 1.7492 - val_accuracy: 0.2206\n",
            "Epoch 5/10\n",
            "12/12 [==============================] - 222s 19s/step - loss: 1.2661 - accuracy: 0.5718 - val_loss: 1.8656 - val_accuracy: 0.1765\n",
            "Epoch 6/10\n",
            "12/12 [==============================] - 224s 19s/step - loss: 1.2223 - accuracy: 0.5339 - val_loss: 1.8479 - val_accuracy: 0.2059\n",
            "Epoch 7/10\n",
            "12/12 [==============================] - 225s 19s/step - loss: 1.1686 - accuracy: 0.6016 - val_loss: 1.8315 - val_accuracy: 0.2059\n",
            "Epoch 8/10\n",
            "12/12 [==============================] - 225s 19s/step - loss: 1.0968 - accuracy: 0.6125 - val_loss: 1.8682 - val_accuracy: 0.2059\n",
            "Epoch 9/10\n",
            "12/12 [==============================] - 225s 19s/step - loss: 1.0562 - accuracy: 0.6558 - val_loss: 1.8851 - val_accuracy: 0.1912\n",
            "Epoch 10/10\n",
            "12/12 [==============================] - 223s 19s/step - loss: 1.0047 - accuracy: 0.6504 - val_loss: 1.8545 - val_accuracy: 0.2206\n"
          ]
        }
      ]
    },
    {
      "cell_type": "code",
      "source": [
        "print('Evaluate on test data:')\n",
        "results = model.evaluate(test_set, batch_size=128, verbose = 2)\n",
        "print('Test loss = {0}, Test acc: {1}'.format(results[0], results[1]))"
      ],
      "metadata": {
        "id": "z3Fcjx50o4ra"
      },
      "execution_count": null,
      "outputs": []
    },
    {
      "cell_type": "code",
      "source": [
        "model.save('C:/Users/Dare/Desktop/TDCN GUI/models/resnet.h5')"
      ],
      "metadata": {
        "id": "h07tiwAgc0QV"
      },
      "execution_count": null,
      "outputs": []
    },
    {
      "cell_type": "code",
      "source": [
        "from keras.models import load_model\n",
        "model = load_model(\"drive/My Drive/vgg.h5\")"
      ],
      "metadata": {
        "id": "ZYby1dT5c1hA"
      },
      "execution_count": null,
      "outputs": []
    },
    {
      "cell_type": "markdown",
      "source": [
        "# making prediction and classification report"
      ],
      "metadata": {
        "id": "Z9gZhXVEdEOy"
      }
    },
    {
      "cell_type": "code",
      "source": [
        "batch_size=32\n",
        "y_pred = model.predict(valid_set, batch_size=batch_size)"
      ],
      "metadata": {
        "id": "M95uQBFWdMgS"
      },
      "execution_count": null,
      "outputs": []
    },
    {
      "cell_type": "code",
      "source": [
        "from sklearn.metrics import classification_report\n",
        "from keras.utils.np_utils import to_categorical\n",
        "from sklearn.metrics import confusion_matrix,roc_curve,auc\n",
        "from PIL import Image\n",
        "y_pred=model.predict_generator(generator=valid_set,)\n",
        "y_pred=np.argmax(y_pred,axis=1)\n",
        "print('classification report')\n",
        "print(classification_report(valid_set.classes, y_pred))"
      ],
      "metadata": {
        "id": "mlMElAosdP-6"
      },
      "execution_count": null,
      "outputs": []
    },
    {
      "cell_type": "markdown",
      "source": [
        "# plot confusion matrix "
      ],
      "metadata": {
        "id": "ntGfIjQZdbug"
      }
    },
    {
      "cell_type": "code",
      "source": [
        "from sklearn.metrics import confusion_matrix, roc_curve\n",
        "import seaborn as sns\n",
        "def plot_confusion_matrix(normalize):\n",
        "  classes = ['normal','follicular', 'intense', 'scar', 'trichiasis','corneal opacity']\n",
        "  tick_marks = [0.5,1.5]\n",
        "  cn = confusion_matrix(valid_set, y_pred, normalize=normalize)\n",
        "  sns.heatmap(cn,cmap='plasma',annot=True)\n",
        "  plt.xticks(tick_marks, classes)\n",
        "  plt.yticks(tick_marks, classes)\n",
        "  plt.title('Confusion Matrix')\n",
        "  plt.ylabel('True label')\n",
        "  plt.xlabel('Predicted label')\n",
        "  plt.show()\n",
        "\n",
        "print('Confusion Matrix without Normalization')\n",
        "plot_confusion_matrix(normalize=None)\n",
        "\n",
        "print('Confusion Matrix with Normalized Values')\n",
        "plot_confusion_matrix(normalize='true')"
      ],
      "metadata": {
        "id": "SD_D0ONZdd-w"
      },
      "execution_count": null,
      "outputs": []
    },
    {
      "cell_type": "markdown",
      "source": [
        "# visualization of accuracy/loss"
      ],
      "metadata": {
        "id": "iXDvM-6Bdvw9"
      }
    },
    {
      "cell_type": "code",
      "source": [
        "N= 100\n",
        "plt.style.use(\"ggplot\")\n",
        "plt.figure()\n",
        "plt.plot( r.history[\"loss\"], label=\"train loss\")\n",
        "plt.plot( r.history[\" val_loss\"], label=\"val loss\")\n",
        "plt.plot( r.history[\"accuracy\"], label=\"train accuracy\")\n",
        "plt.plot(r.history[\"val_accuracy\"], label=\"val_accuracy\")\n",
        "plt.title(\"training loss and Accuracy)\n",
        "plt.xlabel(\"Epoch\")\n",
        "plt.ylabel(\"Loss/Accuracy\")\n",
        "plt.legend(loc=\"center right\")\n",
        "plt.savefig(\"drive/My Drive/Vgg16\")"
      ],
      "metadata": {
        "id": "dqqVTCkSXRtj"
      },
      "execution_count": null,
      "outputs": []
    }
  ]
}