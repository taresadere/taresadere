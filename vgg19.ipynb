{
  "cells": [
    {
      "cell_type": "markdown",
      "metadata": {
        "id": "view-in-github",
        "colab_type": "text"
      },
      "source": [
        "<a href=\"https://colab.research.google.com/github/taresadere/taresadere/blob/main/vgg19.ipynb\" target=\"_parent\"><img src=\"https://colab.research.google.com/assets/colab-badge.svg\" alt=\"Open In Colab\"/></a>"
      ]
    },
    {
      "cell_type": "code",
      "execution_count": 49,
      "metadata": {
        "id": "2CJBVoxSWqA-",
        "colab": {
          "base_uri": "https://localhost:8080/"
        },
        "outputId": "c1eb51b3-77a1-46f0-ae6c-b4e6cf33adde"
      },
      "outputs": [
        {
          "output_type": "stream",
          "name": "stdout",
          "text": [
            "Drive already mounted at /content/drive; to attempt to forcibly remount, call drive.mount(\"/content/drive\", force_remount=True).\n"
          ]
        }
      ],
      "source": [
        "import os\n",
        "import datetime\n",
        "import numpy as np\n",
        "import matplotlib.pyplot as plt\n",
        "import cv2\n",
        "from google.colab import drive\n",
        "\n",
        "# Accessing My Google Drive\n",
        "drive.mount('/content/drive')"
      ]
    },
    {
      "cell_type": "code",
      "source": [
        ""
      ],
      "metadata": {
        "id": "XJkXFwKkYlez"
      },
      "execution_count": null,
      "outputs": []
    },
    {
      "cell_type": "code",
      "execution_count": null,
      "metadata": {
        "colab": {
          "base_uri": "https://localhost:8080/"
        },
        "id": "fqvsv7JEXQQR",
        "outputId": "6fd84395-a5da-4040-d957-ff0ff68e5ef5"
      },
      "outputs": [
        {
          "name": "stdout",
          "output_type": "stream",
          "text": [
            "Requirement already satisfied: keras in /usr/local/lib/python3.7/dist-packages (2.8.0)\n"
          ]
        }
      ],
      "source": [
        "!pip install keras"
      ]
    },
    {
      "cell_type": "code",
      "execution_count": null,
      "metadata": {
        "colab": {
          "base_uri": "https://localhost:8080/"
        },
        "id": "QISnbZdcXhA_",
        "outputId": "e0152713-85e8-438c-cfd7-45a16d234654"
      },
      "outputs": [
        {
          "name": "stdout",
          "output_type": "stream",
          "text": [
            "\u001b[31mERROR: Could not find a version that satisfies the requirement keras.applications.resnet50 (from versions: none)\u001b[0m\n",
            "\u001b[31mERROR: No matching distribution found for keras.applications.resnet50\u001b[0m\n"
          ]
        }
      ],
      "source": [
        "!pip install keras.applications.resnet50"
      ]
    },
    {
      "cell_type": "code",
      "execution_count": 14,
      "metadata": {
        "id": "B722qzWWFb2a"
      },
      "outputs": [],
      "source": [
        "import pandas as pd\n",
        "import numpy as np\n",
        "import os\n",
        "import keras\n",
        "import matplotlib.pyplot as plt\n",
        "from keras.layers import Dense, GlobalAveragePooling2D, Dropout, Flatten\n",
        "from tensorflow.keras.applications.resnet50 import ResNet50\n",
        "from tensorflow.keras.preprocessing import image\n",
        "from tensorflow.keras.applications.resnet50 import preprocess_input, decode_predictions\n",
        "import numpy as np\n",
        "from keras.preprocessing import image\n",
        "from keras.preprocessing.image import ImageDataGenerator\n",
        "from keras.models import Model\n",
        "from tensorflow.keras.optimizers import Adam"
      ]
    },
    {
      "cell_type": "code",
      "source": [
        "from tensorflow.keras.layers import Input, Lambda, Dense, Flatten, GlobalAveragePooling2D, Dropout\n",
        "from tensorflow.keras.models import Model, load_model\n",
        "from tensorflow.keras.applications import VGG19"
      ],
      "metadata": {
        "id": "nqKiRGO0bWSo"
      },
      "execution_count": 15,
      "outputs": []
    },
    {
      "cell_type": "code",
      "execution_count": null,
      "metadata": {
        "id": "Sgd8i2y0m-aW"
      },
      "outputs": [],
      "source": [
        "img_width, img_height = 224, 224"
      ]
    },
    {
      "cell_type": "code",
      "execution_count": 16,
      "metadata": {
        "colab": {
          "base_uri": "https://localhost:8080/"
        },
        "id": "RzNylxUMdP0J",
        "outputId": "6c964cde-effb-4016-d95f-3fd561b4e13d"
      },
      "outputs": [
        {
          "output_type": "stream",
          "name": "stdout",
          "text": [
            "input_shape: (1, 224, 224, 3)\n"
          ]
        }
      ],
      "source": [
        "# Declaration\n",
        "from keras import backend\n",
        "train_path = \"drive/My Drive/train\"\n",
        "valid_path =\"drive/My Drive/validation\"\n",
        "test_path = \"drive/My Drive/test\"\n",
        "IMAGE_SIZE=(224, 224)\n",
        "from keras.preprocessing import image\n",
        "classes= [\"normal\", \"follicular\", \"intense\", \"scar\", \"trichiasis\", \"corneal opacity\"]\n",
        "def model_predict(img_path, model):\n",
        "    image = cv2.imread(img_path)\n",
        "    #image = cv2.resize(image, (224, 224))\n",
        "    image = cv2.resize(image,   IMAGE_SIZE)\n",
        "    image = image.astype(\"float\") / 255.0\n",
        "    #image = img_to_array(image)\n",
        "    image = np.expand_dims(image, axis=0)\n",
        "    res = model.predict(image)\n",
        "    label = np.argmax(res)\n",
        "    print(\"Label\", label)\n",
        "    labelName = classes[label]\n",
        "    print(\"Label name:\", labelName)\n",
        "    return labelName\n",
        "batch_size = 32\n",
        "EPOCHS = 10\n",
        "RANDOM_SEED = 42\n",
        "\n",
        "if backend.image_data_format() == 'channels_first':\n",
        "    INPUT_SHAPE = (3, IMAGE_SIZE[0], IMAGE_SIZE[1],1)\n",
        "else:\n",
        "    INPUT_SHAPE = (1,IMAGE_SIZE[0], IMAGE_SIZE[1], 3)\n",
        "\n",
        "print(f'input_shape: {INPUT_SHAPE}')\n"
      ]
    },
    {
      "cell_type": "code",
      "execution_count": 17,
      "metadata": {
        "id": "35UNn25TghNa"
      },
      "outputs": [],
      "source": [
        "# Prepare train/test using ImageDataGenerator\n",
        "train_datagen = ImageDataGenerator(rescale = 1./255,\n",
        "                                   shear_range = 0.2,\n",
        "                                   zoom_range = 0.2,\n",
        "                                   horizontal_flip = True)\n",
        "valid_datagen = ImageDataGenerator(rescale = 1./255,\n",
        "                                   shear_range = 0.2,\n",
        "                                   zoom_range = 0.2,\n",
        "                                   horizontal_flip = True)\n",
        "\n",
        "test_datagen = ImageDataGenerator(rescale = 1./255)"
      ]
    },
    {
      "cell_type": "code",
      "execution_count": 18,
      "metadata": {
        "colab": {
          "base_uri": "https://localhost:8080/"
        },
        "id": "4USv8oOTgStm",
        "outputId": "2d2b814d-cba6-4d71-c903-652102932c24"
      },
      "outputs": [
        {
          "output_type": "stream",
          "name": "stdout",
          "text": [
            "Found 179 images belonging to 6 classes.\n",
            "Found 76 images belonging to 6 classes.\n"
          ]
        }
      ],
      "source": [
        "training_set = train_datagen.flow_from_directory(train_path,\n",
        "                                                 target_size = tuple(IMAGE_SIZE),\n",
        "                                                 batch_size = 32,\n",
        "                                                 class_mode = 'categorical')\n",
        "\n",
        "valid_set = valid_datagen.flow_from_directory(valid_path,\n",
        "                                            target_size = tuple(IMAGE_SIZE),\n",
        "                                            batch_size = 32,\n",
        "                                            class_mode = 'categorical')"
      ]
    },
    {
      "cell_type": "code",
      "execution_count": 27,
      "metadata": {
        "id": "4Innt1nZsCRJ"
      },
      "outputs": [],
      "source": [
        "vggModel = VGG19(weights=\"imagenet\", include_top=False,\n",
        "    input_tensor=Input(shape=(224, 224, 3)))\n",
        "\n",
        "outputs = vggModel.output\n",
        "outputs = Flatten(name=\"flatten\")(outputs)\n",
        "outputs = Dropout(0.5)(outputs)\n",
        "outputs = Dense(6, activation=\"softmax\")(outputs)\n",
        "\n",
        "model = Model(inputs=vggModel.input, outputs=outputs)\n",
        "\n",
        "for layer in vggModel.layers:\n",
        "    layer.trainable = False\n"
      ]
    },
    {
      "cell_type": "code",
      "source": [
        "model.summary()"
      ],
      "metadata": {
        "id": "jm64hlVZbRuj",
        "outputId": "6eec2577-b235-442e-dfdb-50c02f70090f",
        "colab": {
          "base_uri": "https://localhost:8080/"
        }
      },
      "execution_count": 28,
      "outputs": [
        {
          "output_type": "stream",
          "name": "stdout",
          "text": [
            "Model: \"model_5\"\n",
            "_________________________________________________________________\n",
            " Layer (type)                Output Shape              Param #   \n",
            "=================================================================\n",
            " input_7 (InputLayer)        [(None, 224, 224, 3)]     0         \n",
            "                                                                 \n",
            " block1_conv1 (Conv2D)       (None, 224, 224, 64)      1792      \n",
            "                                                                 \n",
            " block1_conv2 (Conv2D)       (None, 224, 224, 64)      36928     \n",
            "                                                                 \n",
            " block1_pool (MaxPooling2D)  (None, 112, 112, 64)      0         \n",
            "                                                                 \n",
            " block2_conv1 (Conv2D)       (None, 112, 112, 128)     73856     \n",
            "                                                                 \n",
            " block2_conv2 (Conv2D)       (None, 112, 112, 128)     147584    \n",
            "                                                                 \n",
            " block2_pool (MaxPooling2D)  (None, 56, 56, 128)       0         \n",
            "                                                                 \n",
            " block3_conv1 (Conv2D)       (None, 56, 56, 256)       295168    \n",
            "                                                                 \n",
            " block3_conv2 (Conv2D)       (None, 56, 56, 256)       590080    \n",
            "                                                                 \n",
            " block3_conv3 (Conv2D)       (None, 56, 56, 256)       590080    \n",
            "                                                                 \n",
            " block3_conv4 (Conv2D)       (None, 56, 56, 256)       590080    \n",
            "                                                                 \n",
            " block3_pool (MaxPooling2D)  (None, 28, 28, 256)       0         \n",
            "                                                                 \n",
            " block4_conv1 (Conv2D)       (None, 28, 28, 512)       1180160   \n",
            "                                                                 \n",
            " block4_conv2 (Conv2D)       (None, 28, 28, 512)       2359808   \n",
            "                                                                 \n",
            " block4_conv3 (Conv2D)       (None, 28, 28, 512)       2359808   \n",
            "                                                                 \n",
            " block4_conv4 (Conv2D)       (None, 28, 28, 512)       2359808   \n",
            "                                                                 \n",
            " block4_pool (MaxPooling2D)  (None, 14, 14, 512)       0         \n",
            "                                                                 \n",
            " block5_conv1 (Conv2D)       (None, 14, 14, 512)       2359808   \n",
            "                                                                 \n",
            " block5_conv2 (Conv2D)       (None, 14, 14, 512)       2359808   \n",
            "                                                                 \n",
            " block5_conv3 (Conv2D)       (None, 14, 14, 512)       2359808   \n",
            "                                                                 \n",
            " block5_conv4 (Conv2D)       (None, 14, 14, 512)       2359808   \n",
            "                                                                 \n",
            " block5_pool (MaxPooling2D)  (None, 7, 7, 512)         0         \n",
            "                                                                 \n",
            " flatten (Flatten)           (None, 25088)             0         \n",
            "                                                                 \n",
            " dropout_5 (Dropout)         (None, 25088)             0         \n",
            "                                                                 \n",
            " dense_8 (Dense)             (None, 6)                 150534    \n",
            "                                                                 \n",
            "=================================================================\n",
            "Total params: 20,174,918\n",
            "Trainable params: 150,534\n",
            "Non-trainable params: 20,024,384\n",
            "_________________________________________________________________\n"
          ]
        }
      ]
    },
    {
      "cell_type": "code",
      "source": [
        "import tensorflow as tf\n",
        "loss = tf.keras.losses.CategoricalCrossentropy()\n",
        "optimizer = tf.keras.optimizers.Adam(learning_rate=0.0001)\n",
        "model.compile(optimizer=optimizer, loss=loss, metrics= ['accuracy'])"
      ],
      "metadata": {
        "id": "7PzGqYLfdU34"
      },
      "execution_count": 29,
      "outputs": []
    },
    {
      "cell_type": "code",
      "execution_count": 30,
      "metadata": {
        "colab": {
          "base_uri": "https://localhost:8080/"
        },
        "id": "9IqUpAK3tNwO",
        "outputId": "f4d4856e-f203-48da-9b58-d3f876024f97"
      },
      "outputs": [
        {
          "output_type": "stream",
          "name": "stderr",
          "text": [
            "/usr/local/lib/python3.7/dist-packages/ipykernel_launcher.py:24: UserWarning: `Model.fit_generator` is deprecated and will be removed in a future version. Please use `Model.fit`, which supports generators.\n"
          ]
        },
        {
          "output_type": "stream",
          "name": "stdout",
          "text": [
            "Epoch 1/10\n",
            "6/6 [==============================] - 43s 8s/step - loss: 2.2333 - accuracy: 0.2179 - val_loss: 1.9654 - val_accuracy: 0.1711\n",
            "Epoch 2/10\n",
            "6/6 [==============================] - 4s 693ms/step - loss: 2.0894 - accuracy: 0.2235 - val_loss: 1.9588 - val_accuracy: 0.2105\n",
            "Epoch 3/10\n",
            "6/6 [==============================] - 4s 699ms/step - loss: 1.9649 - accuracy: 0.2402 - val_loss: 1.7862 - val_accuracy: 0.2105\n",
            "Epoch 4/10\n",
            "6/6 [==============================] - 4s 699ms/step - loss: 1.7841 - accuracy: 0.2849 - val_loss: 1.7561 - val_accuracy: 0.1316\n",
            "Epoch 5/10\n",
            "6/6 [==============================] - 4s 706ms/step - loss: 1.7194 - accuracy: 0.2849 - val_loss: 1.7308 - val_accuracy: 0.2237\n",
            "Epoch 6/10\n",
            "6/6 [==============================] - 4s 713ms/step - loss: 1.6923 - accuracy: 0.3240 - val_loss: 1.6613 - val_accuracy: 0.2895\n",
            "Epoch 7/10\n",
            "6/6 [==============================] - 4s 706ms/step - loss: 1.6131 - accuracy: 0.3184 - val_loss: 1.6840 - val_accuracy: 0.2895\n",
            "Epoch 8/10\n",
            "6/6 [==============================] - 4s 744ms/step - loss: 1.5860 - accuracy: 0.3855 - val_loss: 1.7124 - val_accuracy: 0.2763\n",
            "Epoch 9/10\n",
            "6/6 [==============================] - 4s 703ms/step - loss: 1.4306 - accuracy: 0.4469 - val_loss: 1.6387 - val_accuracy: 0.2895\n",
            "Epoch 10/10\n",
            "6/6 [==============================] - 4s 747ms/step - loss: 1.4148 - accuracy: 0.4022 - val_loss: 1.6253 - val_accuracy: 0.3684\n",
            "Training time: 0:01:21.505675\n"
          ]
        }
      ],
      "source": [
        "#from tensorflow.keras.callbacks import ReduceLROnPlateau\n",
        "from tensorflow.keras.callbacks import ReduceLROnPlateau, ModelCheckpoint, EarlyStopping\n",
        "from tensorflow.keras.callbacks import ReduceLROnPlateau, ModelCheckpoint, EarlyStopping\n",
        "\n",
        "early_stopping = EarlyStopping(monitor='val_loss', mode='min', verbose=1, patience=5)\n",
        "lrr = ReduceLROnPlateau(monitor='val_accuracy', \n",
        "                        patience=3, \n",
        "                        verbose=1, \n",
        "                        factor=0.4, \n",
        "                        min_lr=0.0001)\n",
        "\n",
        "\n",
        "callbacks = [lrr]\n",
        "# Fine-tune\n",
        "# fit the model, log the results and the training time\n",
        "now = datetime.datetime.now\n",
        "t = now()\n",
        "# fit the model, it will take some time to execute\n",
        "r = model.fit_generator(\n",
        "  training_set,\n",
        "  validation_data=valid_set,\n",
        "  epochs=10,\n",
        "  steps_per_epoch=len(training_set),\n",
        "  validation_steps=len(valid_set)\n",
        ")\n",
        "print('Training time: %s' % (now() - t))\n"
      ]
    },
    {
      "cell_type": "code",
      "source": [
        "print('Evaluate on test data:')\n",
        "results = model.evaluate(valid_set, batch_size=32, verbose = 2)\n",
        "print('Test loss = {0}, Test acc: {1}'.format(results[0], results[1]))"
      ],
      "metadata": {
        "id": "2QQ2NtLrjVyc",
        "outputId": "1c7127a1-8a55-4e3c-da40-674b3fcb3e50",
        "colab": {
          "base_uri": "https://localhost:8080/"
        }
      },
      "execution_count": 46,
      "outputs": [
        {
          "output_type": "stream",
          "name": "stdout",
          "text": [
            "Evaluate on test data:\n",
            "3/3 - 1s - loss: 1.5830 - accuracy: 0.3289 - 1s/epoch - 416ms/step\n",
            "Test loss = 1.5830191373825073, Test acc: 0.32894736528396606\n"
          ]
        }
      ]
    },
    {
      "cell_type": "code",
      "execution_count": 31,
      "metadata": {
        "id": "xBOr7cK-3jVP"
      },
      "outputs": [],
      "source": [
        "model.save('C:/Users/Dare/Desktop/TDCN GUI/models/vgg19.h5')"
      ]
    },
    {
      "cell_type": "code",
      "execution_count": 32,
      "metadata": {
        "id": "oBDDUj874j2F"
      },
      "outputs": [],
      "source": [
        "model.save_weights('vgg19.hdf5')"
      ]
    },
    {
      "cell_type": "code",
      "execution_count": 52,
      "metadata": {
        "id": "ERQsShgz4pR9",
        "colab": {
          "base_uri": "https://localhost:8080/",
          "height": 328
        },
        "outputId": "cfecd8ae-e5d0-46ff-eee4-42e89cd46c11"
      },
      "outputs": [
        {
          "output_type": "error",
          "ename": "OSError",
          "evalue": "ignored",
          "traceback": [
            "\u001b[0;31m---------------------------------------------------------------------------\u001b[0m",
            "\u001b[0;31mOSError\u001b[0m                                   Traceback (most recent call last)",
            "\u001b[0;32m<ipython-input-52-a0031c7f7f04>\u001b[0m in \u001b[0;36m<module>\u001b[0;34m\u001b[0m\n\u001b[1;32m      1\u001b[0m \u001b[0;32mfrom\u001b[0m \u001b[0mkeras\u001b[0m\u001b[0;34m.\u001b[0m\u001b[0mmodels\u001b[0m \u001b[0;32mimport\u001b[0m \u001b[0mload_model\u001b[0m\u001b[0;34m\u001b[0m\u001b[0;34m\u001b[0m\u001b[0m\n\u001b[0;32m----> 2\u001b[0;31m \u001b[0mmodel\u001b[0m \u001b[0;34m=\u001b[0m \u001b[0mload_model\u001b[0m\u001b[0;34m(\u001b[0m\u001b[0;34m\"drive/My Drive/vgg19.h5\"\u001b[0m\u001b[0;34m)\u001b[0m\u001b[0;34m\u001b[0m\u001b[0;34m\u001b[0m\u001b[0m\n\u001b[0m",
            "\u001b[0;32m/usr/local/lib/python3.7/dist-packages/keras/utils/traceback_utils.py\u001b[0m in \u001b[0;36merror_handler\u001b[0;34m(*args, **kwargs)\u001b[0m\n\u001b[1;32m     65\u001b[0m     \u001b[0;32mexcept\u001b[0m \u001b[0mException\u001b[0m \u001b[0;32mas\u001b[0m \u001b[0me\u001b[0m\u001b[0;34m:\u001b[0m  \u001b[0;31m# pylint: disable=broad-except\u001b[0m\u001b[0;34m\u001b[0m\u001b[0;34m\u001b[0m\u001b[0m\n\u001b[1;32m     66\u001b[0m       \u001b[0mfiltered_tb\u001b[0m \u001b[0;34m=\u001b[0m \u001b[0m_process_traceback_frames\u001b[0m\u001b[0;34m(\u001b[0m\u001b[0me\u001b[0m\u001b[0;34m.\u001b[0m\u001b[0m__traceback__\u001b[0m\u001b[0;34m)\u001b[0m\u001b[0;34m\u001b[0m\u001b[0;34m\u001b[0m\u001b[0m\n\u001b[0;32m---> 67\u001b[0;31m       \u001b[0;32mraise\u001b[0m \u001b[0me\u001b[0m\u001b[0;34m.\u001b[0m\u001b[0mwith_traceback\u001b[0m\u001b[0;34m(\u001b[0m\u001b[0mfiltered_tb\u001b[0m\u001b[0;34m)\u001b[0m \u001b[0;32mfrom\u001b[0m \u001b[0;32mNone\u001b[0m\u001b[0;34m\u001b[0m\u001b[0;34m\u001b[0m\u001b[0m\n\u001b[0m\u001b[1;32m     68\u001b[0m     \u001b[0;32mfinally\u001b[0m\u001b[0;34m:\u001b[0m\u001b[0;34m\u001b[0m\u001b[0;34m\u001b[0m\u001b[0m\n\u001b[1;32m     69\u001b[0m       \u001b[0;32mdel\u001b[0m \u001b[0mfiltered_tb\u001b[0m\u001b[0;34m\u001b[0m\u001b[0;34m\u001b[0m\u001b[0m\n",
            "\u001b[0;32m/usr/local/lib/python3.7/dist-packages/keras/saving/save.py\u001b[0m in \u001b[0;36mload_model\u001b[0;34m(filepath, custom_objects, compile, options)\u001b[0m\n\u001b[1;32m    202\u001b[0m         \u001b[0;32mif\u001b[0m \u001b[0misinstance\u001b[0m\u001b[0;34m(\u001b[0m\u001b[0mfilepath_str\u001b[0m\u001b[0;34m,\u001b[0m \u001b[0mstr\u001b[0m\u001b[0;34m)\u001b[0m\u001b[0;34m:\u001b[0m\u001b[0;34m\u001b[0m\u001b[0;34m\u001b[0m\u001b[0m\n\u001b[1;32m    203\u001b[0m           \u001b[0;32mif\u001b[0m \u001b[0;32mnot\u001b[0m \u001b[0mtf\u001b[0m\u001b[0;34m.\u001b[0m\u001b[0mio\u001b[0m\u001b[0;34m.\u001b[0m\u001b[0mgfile\u001b[0m\u001b[0;34m.\u001b[0m\u001b[0mexists\u001b[0m\u001b[0;34m(\u001b[0m\u001b[0mfilepath_str\u001b[0m\u001b[0;34m)\u001b[0m\u001b[0;34m:\u001b[0m\u001b[0;34m\u001b[0m\u001b[0;34m\u001b[0m\u001b[0m\n\u001b[0;32m--> 204\u001b[0;31m             \u001b[0;32mraise\u001b[0m \u001b[0mIOError\u001b[0m\u001b[0;34m(\u001b[0m\u001b[0;34mf'No file or directory found at {filepath_str}'\u001b[0m\u001b[0;34m)\u001b[0m\u001b[0;34m\u001b[0m\u001b[0;34m\u001b[0m\u001b[0m\n\u001b[0m\u001b[1;32m    205\u001b[0m \u001b[0;34m\u001b[0m\u001b[0m\n\u001b[1;32m    206\u001b[0m           \u001b[0;32mif\u001b[0m \u001b[0mtf\u001b[0m\u001b[0;34m.\u001b[0m\u001b[0mio\u001b[0m\u001b[0;34m.\u001b[0m\u001b[0mgfile\u001b[0m\u001b[0;34m.\u001b[0m\u001b[0misdir\u001b[0m\u001b[0;34m(\u001b[0m\u001b[0mfilepath_str\u001b[0m\u001b[0;34m)\u001b[0m\u001b[0;34m:\u001b[0m\u001b[0;34m\u001b[0m\u001b[0;34m\u001b[0m\u001b[0m\n",
            "\u001b[0;31mOSError\u001b[0m: No file or directory found at drive/My Drive/vgg19.h5"
          ]
        }
      ],
      "source": [
        "from keras.models import load_model\n",
        "model = load_model(\"drive/My Drive/vgg19.h5\")"
      ]
    },
    {
      "cell_type": "code",
      "execution_count": 40,
      "metadata": {
        "colab": {
          "base_uri": "https://localhost:8080/",
          "height": 299
        },
        "id": "qEEFqEXT99Hn",
        "outputId": "be247bb6-b751-49f2-900a-4228b52f6e5c"
      },
      "outputs": [
        {
          "output_type": "display_data",
          "data": {
            "text/plain": [
              "<Figure size 432x288 with 1 Axes>"
            ],
            "image/png": "[encoded data removed]"
          },
          "metadata": {}
        }
      ],
      "source": [
        "N= 100\n",
        "plt.style.use(\"ggplot\")\n",
        "plt.figure()\n",
        "plt.plot(r.history[\"loss\"], label=\"train loss\")\n",
        "plt.plot( r.history[\"val_loss\"], label=\"val_loss\")\n",
        "plt.plot(r.history[\"accuracy\"], label=\"train accuracy\")\n",
        "plt.plot( r.history[\"val_accuracy\"], label=\"val_accuracy\")\n",
        "plt.title(\"training loss and Accuracy\")\n",
        "plt.xlabel(\"Epoch\")\n",
        "plt.ylabel(\"Loss/Accuracy\")\n",
        "plt.legend(loc=\"center right\")\n",
        "plt.savefig(\"drive/My Drive/vgg19_model\")"
      ]
    },
    {
      "cell_type": "markdown",
      "source": [
        "#  making prediction and classification report\n",
        "\n",
        "\n",
        "\n"
      ],
      "metadata": {
        "id": "qrF-oYk9yxYW"
      }
    },
    {
      "cell_type": "code",
      "execution_count": 41,
      "metadata": {
        "id": "AhLypTr5Ct6-"
      },
      "outputs": [],
      "source": [
        "y_predict = model.predict(valid_set)"
      ]
    },
    {
      "cell_type": "code",
      "execution_count": 42,
      "metadata": {
        "colab": {
          "base_uri": "https://localhost:8080/"
        },
        "id": "JI5ZJp7144bP",
        "outputId": "35e0c555-4613-4f1b-b4f2-cba7c1ed18f6"
      },
      "outputs": [
        {
          "output_type": "stream",
          "name": "stderr",
          "text": [
            "/usr/local/lib/python3.7/dist-packages/ipykernel_launcher.py:5: UserWarning: `Model.predict_generator` is deprecated and will be removed in a future version. Please use `Model.predict`, which supports generators.\n",
            "  \"\"\"\n"
          ]
        },
        {
          "output_type": "stream",
          "name": "stdout",
          "text": [
            "classification report\n",
            "              precision    recall  f1-score   support\n",
            "\n",
            "           0       0.38      0.25      0.30        12\n",
            "           1       0.36      0.50      0.42        16\n",
            "           2       0.35      0.38      0.36        16\n",
            "           3       0.08      0.22      0.12         9\n",
            "           4       0.00      0.00      0.00        15\n",
            "           5       0.40      0.25      0.31         8\n",
            "\n",
            "    accuracy                           0.28        76\n",
            "   macro avg       0.26      0.27      0.25        76\n",
            "weighted avg       0.26      0.28      0.26        76\n",
            "\n"
          ]
        },
        {
          "output_type": "stream",
          "name": "stderr",
          "text": [
            "/usr/local/lib/python3.7/dist-packages/sklearn/metrics/_classification.py:1318: UndefinedMetricWarning: Precision and F-score are ill-defined and being set to 0.0 in labels with no predicted samples. Use `zero_division` parameter to control this behavior.\n",
            "  _warn_prf(average, modifier, msg_start, len(result))\n",
            "/usr/local/lib/python3.7/dist-packages/sklearn/metrics/_classification.py:1318: UndefinedMetricWarning: Precision and F-score are ill-defined and being set to 0.0 in labels with no predicted samples. Use `zero_division` parameter to control this behavior.\n",
            "  _warn_prf(average, modifier, msg_start, len(result))\n",
            "/usr/local/lib/python3.7/dist-packages/sklearn/metrics/_classification.py:1318: UndefinedMetricWarning: Precision and F-score are ill-defined and being set to 0.0 in labels with no predicted samples. Use `zero_division` parameter to control this behavior.\n",
            "  _warn_prf(average, modifier, msg_start, len(result))\n"
          ]
        }
      ],
      "source": [
        "from sklearn.metrics import classification_report\n",
        "from keras.utils.np_utils import to_categorical\n",
        "from sklearn.metrics import confusion_matrix,roc_curve,auc\n",
        "from PIL import Image\n",
        "y_pred=model.predict_generator(generator=valid_set,)\n",
        "y_pred=np.argmax(y_pred,axis=1)\n",
        "print('classification report')\n",
        "print(classification_report(valid_set.classes, y_pred))\n"
      ]
    },
    {
      "cell_type": "markdown",
      "source": [
        "\n",
        "\n",
        "```\n",
        "# This is formatted as code\n",
        "```\n",
        "plot confusion matrix "
      ],
      "metadata": {
        "id": "4NaUrJHtyTOb"
      }
    },
    {
      "cell_type": "code",
      "source": [
        "from sklearn.metrics import confusion_matrix,roc_curve,auc\n",
        "import seaborn as sns\n",
        "def plot_confusion_matrix(normalize):\n",
        "  classes = ['normal','follicular', 'intense', 'scar', 'trichiasis','corneal opacity']\n",
        "  tick_marks = [0.5,1.5]\n",
        "  cn = confusion_matrix(valid_set.classes, y_pred, normalize=normalize)\n",
        "  sns.heatmap(cn,cmap='plasma',annot=True)\n",
        "  plt.xticks(tick_marks, classes)\n",
        "  plt.yticks(tick_marks, classes)\n",
        "  plt.title('Confusion Matrix')\n",
        "  plt.ylabel('True label')\n",
        "  plt.xlabel('Predicted label')\n",
        "  plt.show()\n",
        "\n",
        "print('Confusion Matrix without Normalization')\n",
        "plot_confusion_matrix(normalize=None)\n",
        "\n",
        "print('Confusion Matrix with Normalized Values')\n",
        "plot_confusion_matrix(normalize='true')"
      ],
      "metadata": {
        "id": "A-qYQignyiS4",
        "colab": {
          "base_uri": "https://localhost:8080/",
          "height": 616
        },
        "outputId": "f34ab6f0-9896-44c2-a70b-c3a044fda27f"
      },
      "execution_count": 43,
      "outputs": [
        {
          "output_type": "stream",
          "name": "stdout",
          "text": [
            "Confusion Matrix without Normalization\n"
          ]
        },
        {
          "output_type": "display_data",
          "data": {
            "text/plain": [
              "<Figure size 432x288 with 2 Axes>"
            ],
            "image/png": "[encoded data removed]"
          },
          "metadata": {}
        },
        {
          "output_type": "stream",
          "name": "stdout",
          "text": [
            "Confusion Matrix with Normalized Values\n"
          ]
        },
        {
          "output_type": "display_data",
          "data": {
            "text/plain": [
              "<Figure size 432x288 with 2 Axes>"
            ],
            "image/png": "[encoded data removed]"
          },
          "metadata": {}
        }
      ]
    }
  ],
  "metadata": {
    "accelerator": "GPU",
    "colab": {
      "collapsed_sections": [],
      "name": "vgg19.ipynb",
      "provenance": [],
      "include_colab_link": true
    },
    "kernelspec": {
      "display_name": "Python 3",
      "name": "python3"
    }
  },
  "nbformat": 4,
  "nbformat_minor": 0
}